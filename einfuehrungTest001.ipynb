{
 "cells": [
  {
   "cell_type": "markdown",
   "id": "f3344353-937b-4155-9fbe-8f4c1ee8d686",
   "metadata": {},
   "source": [
    "# Weltraumeinführung in C++\n",
    "\n",
    "\n",
    "Dies ist eine kleine Weltraumeinführung, die die grundlegende Struktur und Funktionsweise eines C++-Programms erklärt"
   ]
  },
  {
   "cell_type": "code",
   "execution_count": null,
   "id": "41607be2-8650-4527-bf68-b7fa53bbcb0c",
   "metadata": {},
   "outputs": [],
   "source": [
    "// Beispiel: Grundlegende Struktur eines C++-Programms\n",
    "#include <iostream>\n",
    "\n",
    "using namespace std;\n",
    "\n",
    "int main() {\n",
    "    // Programmcode hier\n",
    "    cout << \"Hallo Welt!\" << endl;\n",
    "    return 0;\n",
    "}"
   ]
  }
 ],
 "metadata": {
  "kernelspec": {
   "display_name": "Python 3 (ipykernel)",
   "language": "python",
   "name": "python3"
  },
  "language_info": {
   "codemirror_mode": {
    "name": "ipython",
    "version": 3
   },
   "file_extension": ".py",
   "mimetype": "text/x-python",
   "name": "python",
   "nbconvert_exporter": "python",
   "pygments_lexer": "ipython3",
   "version": "3.10.12"
  }
 },
 "nbformat": 4,
 "nbformat_minor": 5
}
